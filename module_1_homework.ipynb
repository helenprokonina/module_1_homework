{
 "cells": [
  {
   "cell_type": "markdown",
   "source": [
    "# Домашнее задание на проверку знаний библиотеки для анализа данных Pandas.\n",
    "\n",
    "Вам представлен датасет, который содержит информацию по результатам сезона 2016 года игры в бейсбол.\n",
    "\n",
    "Вам необходимо загрузить датасет (он находится в архиве с текущим домашним заданием). Провести его очистку, если это необходимо и ответить на поставленные аналитические\n",
    "вопросы.\n",
    "\n",
    "Список колонок, представленных в датасете:\n",
    "\n",
    "---\n",
    "* attendance        - количество зрителей матча\n",
    "* away_team         - название гостевой команды\n",
    "* away_team_errors  - количество ошибок гостевой команды\n",
    "* away_team_hits    - количество хитов гостевой команды (хит в бейсболе - удар при котором отбивающий достиг первой базы)\n",
    "* away_team_runs    - количество ранов гостевой команды (ран в бейсболе - очко заработанное игроком нападения)\n",
    "* date              - дата проведения матча\n",
    "* field_type        - тип игрового поля\n",
    "* game_type         - тип игры\n",
    "* home_team         - название домашней команды\n",
    "* home_team_errors  - количество ошибок домашней команды\n",
    "* home_team_hits    - количество хитов домашней команды (хит в бейсболе - удар при котором отбивающий достиг первой базы)\n",
    "* home_team_runs    - количество ранов домашней команды (ран в бейсболе - очко заработанное игроком нападения)\n",
    "* start_time        - время начала игрового матча\n",
    "* venue             - название места проведения матча (стадион, поле, арена)\n",
    "* day_of_week       - день недели проведения матча\n",
    "* temperature       - температура воздуха в день проведения матча в фаренгейтах\n",
    "* wind_speed        - скорость ветра в день проведения матча\n",
    "* wind_direction    - направление скорости ветра\n",
    "* sky               - облачность\n",
    "* total_runs        - общее количество ранов для двух команд\n",
    "* game_hours_dec    - длительность матча указаная в часах\n",
    "* season            - тип игрового сезона\n",
    "* home_team_win     - результат домашней команды (1 - выигрыш)\n",
    "* home_team_loss    - результат домашней команды (0 - проигрыш)\n",
    "* home_team_outcome - исход матча\n",
    "---\n",
    "\n",
    "Всего в задании 20 вопросов. За каждый правильный вопрос начисляется 5 баллов. Таким образом за все правильные ответы вы получите - 100 баллов. Оценка затем будет приведена к 10-ти бальной шкале.\n",
    "\n",
    "---\n",
    "\n",
    "**Кроме того, баллы могут быть снижены за**:\n",
    "\n",
    "- 1 балл снижается за качество кода - старайтесь чтобы код был максимально лаконичным. Названия переменных (если они используются) должны отражать максимальную ее сущность. Вывод старайтесь делать минимальным, так как первичная цель - сделать качественный анализ, чтобы быстро ответить на поставленный вопрос (никаких таблиц на 100 строк).\n",
    "\n",
    "\n",
    "- 5 баллов снижается если ответ на домашнюю работу будет прислан в виде скриншота, ноутбука, текстового файла и прочих способов. Используйте при отправке на проверку только GitHub/GitLab либо прочий сервис. Присылать домашнюю работу необходимо ссылкой на ваш репозиторий на адрес электронной почты maratmovlamov2017@gmail.com\n",
    "\n",
    "\n",
    "- за каждый день просрочки дедлайна снижается по 10 баллов. Один день - минус 10 баллов, второй день минус 10 баллов, третий день минус 10 баллов. Соблюдайте сроки и не приступайте к домашнему заданию в последний момент.\n",
    "\n",
    "---\n",
    "\n",
    "Удачи вам в поисках истинны :)"
   ],
   "metadata": {
    "collapsed": false,
    "pycharm": {
     "name": "#%% md\n"
    }
   }
  },
  {
   "cell_type": "code",
   "execution_count": 1,
   "outputs": [],
   "source": [
    "# Импортируйте все необходимые библиотеки и модули которые вам необходимы\n",
    "import pandas as pd\n",
    "import numpy as np\n",
    "from datetime import datetime\n",
    "import seaborn as sns\n",
    "import matplotlib.pyplot as plt"
   ],
   "metadata": {
    "collapsed": false,
    "pycharm": {
     "name": "#%%\n"
    }
   }
  },
  {
   "cell_type": "code",
   "execution_count": 2,
   "outputs": [
    {
     "name": "stdout",
     "output_type": "stream",
     "text": [
      "<class 'pandas.core.frame.DataFrame'>\n",
      "RangeIndex: 2463 entries, 0 to 2462\n",
      "Data columns (total 26 columns):\n",
      " #   Column             Non-Null Count  Dtype  \n",
      "---  ------             --------------  -----  \n",
      " 0   Unnamed: 0         2463 non-null   int64  \n",
      " 1   attendance         2460 non-null   float64\n",
      " 2   away_team          2463 non-null   object \n",
      " 3   away_team_errors   2463 non-null   int64  \n",
      " 4   away_team_hits     2463 non-null   int64  \n",
      " 5   away_team_runs     2463 non-null   int64  \n",
      " 6   date               2463 non-null   object \n",
      " 7   field_type         2463 non-null   object \n",
      " 8   game_type          2463 non-null   object \n",
      " 9   home_team          2463 non-null   object \n",
      " 10  home_team_errors   2463 non-null   int64  \n",
      " 11  home_team_hits     2463 non-null   int64  \n",
      " 12  home_team_runs     2463 non-null   int64  \n",
      " 13  start_time         2463 non-null   object \n",
      " 14  venue              2463 non-null   object \n",
      " 15  day_of_week        2463 non-null   object \n",
      " 16  temperature        2463 non-null   float64\n",
      " 17  wind_speed         2463 non-null   float64\n",
      " 18  wind_direction     2463 non-null   object \n",
      " 19  sky                2463 non-null   object \n",
      " 20  total_runs         2463 non-null   int64  \n",
      " 21  game_hours_dec     2463 non-null   float64\n",
      " 22  season             2463 non-null   object \n",
      " 23  home_team_win      2463 non-null   int64  \n",
      " 24  home_team_loss     2463 non-null   int64  \n",
      " 25  home_team_outcome  2463 non-null   object \n",
      "dtypes: float64(4), int64(10), object(12)\n",
      "memory usage: 500.4+ KB\n"
     ]
    }
   ],
   "source": [
    "# Загрузите датасет и проведите его очистку и форматирование если это необходимо\n",
    "data=pd.read_csv(\"./files/baseball_games.csv\")\n",
    "data.info()"
   ],
   "metadata": {
    "collapsed": false,
    "pycharm": {
     "name": "#%%\n"
    }
   }
  },
  {
   "cell_type": "code",
   "execution_count": 3,
   "outputs": [
    {
     "data": {
      "text/plain": "Index(['Unnamed: 0', 'attendance', 'away_team', 'away_team_errors',\n       'away_team_hits', 'away_team_runs', 'date', 'field_type', 'game_type',\n       'home_team', 'home_team_errors', 'home_team_hits', 'home_team_runs',\n       'start_time', 'venue', 'day_of_week', 'temperature', 'wind_speed',\n       'wind_direction', 'sky', 'total_runs', 'game_hours_dec', 'season',\n       'home_team_win', 'home_team_loss', 'home_team_outcome'],\n      dtype='object')"
     },
     "execution_count": 3,
     "metadata": {},
     "output_type": "execute_result"
    }
   ],
   "source": [
    "data.columns"
   ],
   "metadata": {
    "collapsed": false,
    "pycharm": {
     "name": "#%%\n"
    }
   }
  },
  {
   "cell_type": "code",
   "execution_count": 4,
   "outputs": [],
   "source": [
    "#удалим первый столбец, так как он не несет в себе смысловой нагрузки\n",
    "del data['Unnamed: 0']"
   ],
   "metadata": {
    "collapsed": false,
    "pycharm": {
     "name": "#%%\n"
    }
   }
  },
  {
   "cell_type": "code",
   "execution_count": 5,
   "outputs": [
    {
     "data": {
      "text/plain": "   attendance              away_team  away_team_errors  away_team_hits  \\\n0     40030.0          New York Mets                 1               7   \n1     21621.0  Philadelphia Phillies                 0               5   \n2     12622.0        Minnesota Twins                 0               5   \n3     18531.0   Washington Nationals                 0               8   \n4     18572.0       Colorado Rockies                 1               8   \n\n   away_team_runs        date field_type   game_type             home_team  \\\n0               3  2016-04-03   on grass  Night Game    Kansas City Royals   \n1               2  2016-04-06   on grass  Night Game       Cincinnati Reds   \n2               2  2016-04-06   on grass  Night Game     Baltimore Orioles   \n3               3  2016-04-06   on grass  Night Game        Atlanta Braves   \n4               4  2016-04-06   on grass    Day Game  Arizona Diamondbacks   \n\n   home_team_errors  ...  temperature  wind_speed         wind_direction  \\\n0                 0  ...         74.0        14.0     from Right to Left   \n1                 0  ...         55.0        24.0     from Right to Left   \n2                 0  ...         48.0         7.0       out to Leftfield   \n3                 1  ...         65.0        10.0     from Right to Left   \n4                 0  ...         77.0         0.0   in unknown direction   \n\n        sky total_runs  game_hours_dec          season home_team_win  \\\n0     Sunny          7        3.216667  regular season             1   \n1  Overcast          5        2.383333  regular season             1   \n2   Unknown          6        3.183333  regular season             1   \n3    Cloudy          4        2.883333  regular season             0   \n4   In Dome          7        2.650000  regular season             0   \n\n  home_team_loss  home_team_outcome  \n0              0                Win  \n1              0                Win  \n2              0                Win  \n3              1               Loss  \n4              1               Loss  \n\n[5 rows x 25 columns]",
      "text/html": "<div>\n<style scoped>\n    .dataframe tbody tr th:only-of-type {\n        vertical-align: middle;\n    }\n\n    .dataframe tbody tr th {\n        vertical-align: top;\n    }\n\n    .dataframe thead th {\n        text-align: right;\n    }\n</style>\n<table border=\"1\" class=\"dataframe\">\n  <thead>\n    <tr style=\"text-align: right;\">\n      <th></th>\n      <th>attendance</th>\n      <th>away_team</th>\n      <th>away_team_errors</th>\n      <th>away_team_hits</th>\n      <th>away_team_runs</th>\n      <th>date</th>\n      <th>field_type</th>\n      <th>game_type</th>\n      <th>home_team</th>\n      <th>home_team_errors</th>\n      <th>...</th>\n      <th>temperature</th>\n      <th>wind_speed</th>\n      <th>wind_direction</th>\n      <th>sky</th>\n      <th>total_runs</th>\n      <th>game_hours_dec</th>\n      <th>season</th>\n      <th>home_team_win</th>\n      <th>home_team_loss</th>\n      <th>home_team_outcome</th>\n    </tr>\n  </thead>\n  <tbody>\n    <tr>\n      <th>0</th>\n      <td>40030.0</td>\n      <td>New York Mets</td>\n      <td>1</td>\n      <td>7</td>\n      <td>3</td>\n      <td>2016-04-03</td>\n      <td>on grass</td>\n      <td>Night Game</td>\n      <td>Kansas City Royals</td>\n      <td>0</td>\n      <td>...</td>\n      <td>74.0</td>\n      <td>14.0</td>\n      <td>from Right to Left</td>\n      <td>Sunny</td>\n      <td>7</td>\n      <td>3.216667</td>\n      <td>regular season</td>\n      <td>1</td>\n      <td>0</td>\n      <td>Win</td>\n    </tr>\n    <tr>\n      <th>1</th>\n      <td>21621.0</td>\n      <td>Philadelphia Phillies</td>\n      <td>0</td>\n      <td>5</td>\n      <td>2</td>\n      <td>2016-04-06</td>\n      <td>on grass</td>\n      <td>Night Game</td>\n      <td>Cincinnati Reds</td>\n      <td>0</td>\n      <td>...</td>\n      <td>55.0</td>\n      <td>24.0</td>\n      <td>from Right to Left</td>\n      <td>Overcast</td>\n      <td>5</td>\n      <td>2.383333</td>\n      <td>regular season</td>\n      <td>1</td>\n      <td>0</td>\n      <td>Win</td>\n    </tr>\n    <tr>\n      <th>2</th>\n      <td>12622.0</td>\n      <td>Minnesota Twins</td>\n      <td>0</td>\n      <td>5</td>\n      <td>2</td>\n      <td>2016-04-06</td>\n      <td>on grass</td>\n      <td>Night Game</td>\n      <td>Baltimore Orioles</td>\n      <td>0</td>\n      <td>...</td>\n      <td>48.0</td>\n      <td>7.0</td>\n      <td>out to Leftfield</td>\n      <td>Unknown</td>\n      <td>6</td>\n      <td>3.183333</td>\n      <td>regular season</td>\n      <td>1</td>\n      <td>0</td>\n      <td>Win</td>\n    </tr>\n    <tr>\n      <th>3</th>\n      <td>18531.0</td>\n      <td>Washington Nationals</td>\n      <td>0</td>\n      <td>8</td>\n      <td>3</td>\n      <td>2016-04-06</td>\n      <td>on grass</td>\n      <td>Night Game</td>\n      <td>Atlanta Braves</td>\n      <td>1</td>\n      <td>...</td>\n      <td>65.0</td>\n      <td>10.0</td>\n      <td>from Right to Left</td>\n      <td>Cloudy</td>\n      <td>4</td>\n      <td>2.883333</td>\n      <td>regular season</td>\n      <td>0</td>\n      <td>1</td>\n      <td>Loss</td>\n    </tr>\n    <tr>\n      <th>4</th>\n      <td>18572.0</td>\n      <td>Colorado Rockies</td>\n      <td>1</td>\n      <td>8</td>\n      <td>4</td>\n      <td>2016-04-06</td>\n      <td>on grass</td>\n      <td>Day Game</td>\n      <td>Arizona Diamondbacks</td>\n      <td>0</td>\n      <td>...</td>\n      <td>77.0</td>\n      <td>0.0</td>\n      <td>in unknown direction</td>\n      <td>In Dome</td>\n      <td>7</td>\n      <td>2.650000</td>\n      <td>regular season</td>\n      <td>0</td>\n      <td>1</td>\n      <td>Loss</td>\n    </tr>\n  </tbody>\n</table>\n<p>5 rows × 25 columns</p>\n</div>"
     },
     "execution_count": 5,
     "metadata": {},
     "output_type": "execute_result"
    }
   ],
   "source": [
    "#удаляем данные об играх, сыгранных в post season\n",
    "data.drop(data[data['season']=='post season'].index, inplace = True)\n",
    "#заполним матчи, где attendance NaN средним значением по столбцу attendance\n",
    "data.fillna(value=data['attendance'].mean(), inplace=True)\n",
    "data.head()"
   ],
   "metadata": {
    "collapsed": false,
    "pycharm": {
     "name": "#%%\n"
    }
   }
  },
  {
   "cell_type": "code",
   "execution_count": 6,
   "outputs": [],
   "source": [
    "#напишем функцию, которая преобразует время начала игры в строку \"%H:%M%PM\"\n",
    "def time_format(s):\n",
    "    parts=s.split(' ')\n",
    "    letters=parts[1].split('.')\n",
    "    letters=\"\".join(letters)\n",
    "    new_time=parts[0]+letters.upper()\n",
    "    return new_time\n",
    "\n",
    "data['start_time']=data['start_time'].apply(time_format)"
   ],
   "metadata": {
    "collapsed": false,
    "pycharm": {
     "name": "#%%\n"
    }
   }
  },
  {
   "cell_type": "code",
   "execution_count": 7,
   "outputs": [
    {
     "data": {
      "text/plain": "0        2016-04-037:38PM\n1        2016-04-067:11PM\n2        2016-04-067:07PM\n3        2016-04-067:10PM\n4       2016-04-0612:40PM\n              ...        \n2458     2016-04-034:09PM\n2459     2016-04-031:15PM\n2460    2016-04-0612:41PM\n2461     2016-04-064:57PM\n2462     2016-04-066:22PM\nName: time, Length: 2428, dtype: object"
     },
     "execution_count": 7,
     "metadata": {},
     "output_type": "execute_result"
    }
   ],
   "source": [
    "#создаем новый столбец где объединим и год и время начала игры\n",
    "data['time']=data['date']+data['start_time']\n",
    "data['time']"
   ],
   "metadata": {
    "collapsed": false,
    "pycharm": {
     "name": "#%%\n"
    }
   }
  },
  {
   "cell_type": "code",
   "execution_count": 8,
   "outputs": [
    {
     "data": {
      "text/plain": "0      2016-04-03\n1      2016-04-06\n2      2016-04-06\n3      2016-04-06\n4      2016-04-06\n          ...    \n2458   2016-04-03\n2459   2016-04-03\n2460   2016-04-06\n2461   2016-04-06\n2462   2016-04-06\nName: date, Length: 2428, dtype: datetime64[ns]"
     },
     "execution_count": 8,
     "metadata": {},
     "output_type": "execute_result"
    }
   ],
   "source": [
    "#преобразуем столбец data в тип datetime\n",
    "data['date']=data['date'].apply(lambda x: datetime.strptime(x, \"%Y-%m-%d\"))\n",
    "data['date']"
   ],
   "metadata": {
    "collapsed": false,
    "pycharm": {
     "name": "#%%\n"
    }
   }
  },
  {
   "cell_type": "code",
   "execution_count": 9,
   "outputs": [
    {
     "data": {
      "text/plain": "0      2016-04-03 07:38:00\n1      2016-04-06 07:11:00\n2      2016-04-06 07:07:00\n3      2016-04-06 07:10:00\n4      2016-04-06 12:40:00\n               ...        \n2458   2016-04-03 04:09:00\n2459   2016-04-03 01:15:00\n2460   2016-04-06 12:41:00\n2461   2016-04-06 04:57:00\n2462   2016-04-06 06:22:00\nName: time, Length: 2428, dtype: datetime64[ns]"
     },
     "execution_count": 9,
     "metadata": {},
     "output_type": "execute_result"
    }
   ],
   "source": [
    "#преобразуем столбец time в тип datetime в формате %Y-%m-%d%H:%M%p\n",
    "data['time']=data['time'].apply(lambda x: datetime.strptime(x, \"%Y-%m-%d%H:%M%p\"))\n",
    "\n",
    "data['time']"
   ],
   "metadata": {
    "collapsed": false,
    "pycharm": {
     "name": "#%%\n"
    }
   }
  },
  {
   "cell_type": "markdown",
   "source": [
    "# 1. На какую игру пришло максимальное количество зрителей за весь сезон игр?"
   ],
   "metadata": {
    "collapsed": false,
    "pycharm": {
     "name": "#%% md\n"
    }
   }
  },
  {
   "cell_type": "code",
   "execution_count": 10,
   "outputs": [
    {
     "data": {
      "text/plain": "attendance                        53621.0\naway_team            San Francisco Giants\naway_team_errors                        1\naway_team_hits                         11\naway_team_runs                          2\ndate                  2016-09-20 00:00:00\nfield_type                       on grass\ngame_type                      Night Game\nhome_team             Los Angeles Dodgers\nhome_team_errors                        0\nhome_team_hits                          9\nhome_team_runs                          0\nstart_time                         7:10PM\nvenue                      Dodger Stadium\nday_of_week                       Tuesday\ntemperature                          77.0\nwind_speed                            6.0\nwind_direction          out to Rightfield\nsky                                Cloudy\ntotal_runs                              2\ngame_hours_dec                        3.6\nseason                     regular season\nhome_team_win                           0\nhome_team_loss                          1\nhome_team_outcome                    Loss\ntime                  2016-09-20 07:10:00\nName: 534, dtype: object"
     },
     "execution_count": 10,
     "metadata": {},
     "output_type": "execute_result"
    }
   ],
   "source": [
    "data.loc[data['attendance'].idxmax()]"
   ],
   "metadata": {
    "collapsed": false,
    "pycharm": {
     "name": "#%%\n"
    }
   }
  },
  {
   "cell_type": "markdown",
   "source": [
    "# 2. Какая игра была самая холодная (temperature) за весь сезон?"
   ],
   "metadata": {
    "collapsed": false,
    "pycharm": {
     "name": "#%% md\n"
    }
   }
  },
  {
   "cell_type": "code",
   "execution_count": 11,
   "outputs": [
    {
     "data": {
      "text/plain": "attendance                       32419.0\naway_team               New York Yankees\naway_team_errors                       1\naway_team_hits                        13\naway_team_runs                         8\ndate                 2016-04-09 00:00:00\nfield_type                      on grass\ngame_type                       Day Game\nhome_team                 Detroit Tigers\nhome_team_errors                       1\nhome_team_hits                         7\nhome_team_runs                         4\nstart_time                        1:10PM\nvenue                      Comerica Park\nday_of_week                     Saturday\ntemperature                         31.0\nwind_speed                          18.0\nwind_direction        from Left to Right\nsky                               Cloudy\ntotal_runs                            12\ngame_hours_dec                  3.333333\nseason                    regular season\nhome_team_win                          0\nhome_team_loss                         1\nhome_team_outcome                   Loss\ntime                 2016-04-09 01:10:00\nName: 2409, dtype: object"
     },
     "execution_count": 11,
     "metadata": {},
     "output_type": "execute_result"
    }
   ],
   "source": [
    "data.loc[data['temperature'].idxmin()]"
   ],
   "metadata": {
    "collapsed": false,
    "pycharm": {
     "name": "#%%\n"
    }
   }
  },
  {
   "cell_type": "markdown",
   "source": [
    "# 3. Какая игра была самая теплая за весь сезон?"
   ],
   "metadata": {
    "collapsed": false,
    "pycharm": {
     "name": "#%% md\n"
    }
   }
  },
  {
   "cell_type": "code",
   "execution_count": 12,
   "outputs": [
    {
     "data": {
      "text/plain": "attendance                         21753.0\naway_team             San Francisco Giants\naway_team_errors                         0\naway_team_hits                           8\naway_team_runs                           3\ndate                   2016-05-13 00:00:00\nfield_type                        on grass\ngame_type                       Night Game\nhome_team             Arizona Diamondbacks\nhome_team_errors                         0\nhome_team_hits                           8\nhome_team_runs                           1\nstart_time                          6:40PM\nvenue                          Chase Field\nday_of_week                         Friday\ntemperature                          101.0\nwind_speed                             9.0\nwind_direction        in unknown direction\nsky                                  Sunny\ntotal_runs                               4\ngame_hours_dec                         3.0\nseason                      regular season\nhome_team_win                            0\nhome_team_loss                           1\nhome_team_outcome                     Loss\ntime                   2016-05-13 06:40:00\nName: 2026, dtype: object"
     },
     "execution_count": 12,
     "metadata": {},
     "output_type": "execute_result"
    }
   ],
   "source": [
    "data.loc[data['temperature'].idxmax()]"
   ],
   "metadata": {
    "collapsed": false,
    "pycharm": {
     "name": "#%%\n"
    }
   }
  },
  {
   "cell_type": "markdown",
   "source": [
    "# 4. Какая игра в сезоне была самая долгая по продолжительности матча?"
   ],
   "metadata": {
    "collapsed": false,
    "pycharm": {
     "name": "#%% md\n"
    }
   }
  },
  {
   "cell_type": "code",
   "execution_count": 13,
   "outputs": [
    {
     "data": {
      "text/plain": "attendance                         45825.0\naway_team                Cleveland Indians\naway_team_errors                         0\naway_team_hits                          15\naway_team_runs                           2\ndate                   2016-07-01 00:00:00\nfield_type                         on turf\ngame_type                         Day Game\nhome_team                Toronto Blue Jays\nhome_team_errors                         2\nhome_team_hits                          11\nhome_team_runs                           1\nstart_time                          1:20PM\nvenue                        Rogers Centre\nday_of_week                         Friday\ntemperature                           68.0\nwind_speed                             0.0\nwind_direction        in unknown direction\nsky                                In Dome\ntotal_runs                               3\ngame_hours_dec                    6.216667\nseason                      regular season\nhome_team_win                            0\nhome_team_loss                           1\nhome_team_outcome                     Loss\ntime                   2016-07-01 01:20:00\nName: 1445, dtype: object"
     },
     "execution_count": 13,
     "metadata": {},
     "output_type": "execute_result"
    }
   ],
   "source": [
    "data.loc[data['game_hours_dec'].idxmax()]"
   ],
   "metadata": {
    "collapsed": false,
    "pycharm": {
     "name": "#%%\n"
    }
   }
  },
  {
   "cell_type": "markdown",
   "source": [
    "# 5. Какая игра в сезоне была самая короткая по продолжительности матча?"
   ],
   "metadata": {
    "collapsed": false,
    "pycharm": {
     "name": "#%% md\n"
    }
   }
  },
  {
   "cell_type": "code",
   "execution_count": 14,
   "outputs": [
    {
     "data": {
      "text/plain": "attendance                       19991.0\naway_team                   Chicago Cubs\naway_team_errors                       1\naway_team_hits                         4\naway_team_runs                         1\ndate                 2016-09-29 00:00:00\nfield_type                      on grass\ngame_type                     Night Game\nhome_team             Pittsburgh Pirates\nhome_team_errors                       0\nhome_team_hits                         2\nhome_team_runs                         1\nstart_time                        7:06PM\nvenue                           PNC Park\nday_of_week                     Thursday\ntemperature                         63.0\nwind_speed                          12.0\nwind_direction         in from Leftfield\nsky                             Overcast\ntotal_runs                             2\ngame_hours_dec                      1.25\nseason                    regular season\nhome_team_win                          0\nhome_team_loss                         0\nhome_team_outcome                   Loss\ntime                 2016-09-29 07:06:00\nName: 423, dtype: object"
     },
     "execution_count": 14,
     "metadata": {},
     "output_type": "execute_result"
    }
   ],
   "source": [
    "data.loc[data['game_hours_dec'].idxmin()]"
   ],
   "metadata": {
    "collapsed": false,
    "pycharm": {
     "name": "#%%\n"
    }
   }
  },
  {
   "cell_type": "markdown",
   "source": [
    "# 6. Сколько матчей в сезоне закончилось ничьей?"
   ],
   "metadata": {
    "collapsed": false,
    "pycharm": {
     "name": "#%% md\n"
    }
   }
  },
  {
   "cell_type": "code",
   "execution_count": 15,
   "outputs": [
    {
     "data": {
      "text/plain": "1"
     },
     "execution_count": 15,
     "metadata": {},
     "output_type": "execute_result"
    }
   ],
   "source": [
    "data[(data[\"home_team_win\"]==0) & (data[\"home_team_loss\"]==0)].shape[0]"
   ],
   "metadata": {
    "collapsed": false,
    "pycharm": {
     "name": "#%%\n"
    }
   }
  },
  {
   "cell_type": "markdown",
   "source": [
    "# 7. Какая игра была последней в сезоне?"
   ],
   "metadata": {
    "collapsed": false,
    "pycharm": {
     "name": "#%% md\n"
    }
   }
  },
  {
   "cell_type": "code",
   "execution_count": 16,
   "outputs": [
    {
     "data": {
      "text/plain": "attendance                       24856.0\naway_team              Oakland Athletics\naway_team_errors                       0\naway_team_hits                         7\naway_team_runs                         3\ndate                 2016-10-02 00:00:00\nfield_type                      on grass\ngame_type                       Day Game\nhome_team               Seattle Mariners\nhome_team_errors                       0\nhome_team_hits                         6\nhome_team_runs                         2\nstart_time                       12:10PM\nvenue                       Safeco Field\nday_of_week                       Sunday\ntemperature                         58.0\nwind_speed                           1.0\nwind_direction        out to Centerfield\nsky                              Unknown\ntotal_runs                             5\ngame_hours_dec                  2.566667\nseason                    regular season\nhome_team_win                          0\nhome_team_loss                         1\nhome_team_outcome                   Loss\ntime                 2016-10-02 12:10:00\nName: 388, dtype: object"
     },
     "execution_count": 16,
     "metadata": {},
     "output_type": "execute_result"
    }
   ],
   "source": [
    "data_copy=data.copy()\n",
    "data_copy.sort_values(by=['time'], ascending=False, inplace=True)\n",
    "data_copy.iloc[0]"
   ],
   "metadata": {
    "collapsed": false,
    "pycharm": {
     "name": "#%%\n"
    }
   }
  },
  {
   "cell_type": "markdown",
   "source": [
    "# 8. У какой игры было минимальное количество зрителей?"
   ],
   "metadata": {
    "collapsed": false,
    "pycharm": {
     "name": "#%% md\n"
    }
   }
  },
  {
   "cell_type": "code",
   "execution_count": 17,
   "outputs": [
    {
     "data": {
      "text/plain": "attendance                        8766.0\naway_team                 Detroit Tigers\naway_team_errors                       0\naway_team_hits                         5\naway_team_runs                         0\ndate                 2016-05-04 00:00:00\nfield_type                      on grass\ngame_type                     Night Game\nhome_team              Cleveland Indians\nhome_team_errors                       0\nhome_team_hits                         5\nhome_team_runs                         4\nstart_time                        6:10PM\nvenue                  Progressive Field\nday_of_week                    Wednesday\ntemperature                         54.0\nwind_speed                          11.0\nwind_direction        from Left to Right\nsky                             Overcast\ntotal_runs                             4\ngame_hours_dec                  2.316667\nseason                    regular season\nhome_team_win                          1\nhome_team_loss                         0\nhome_team_outcome                    Win\ntime                 2016-05-04 06:10:00\nName: 2130, dtype: object"
     },
     "execution_count": 17,
     "metadata": {},
     "output_type": "execute_result"
    }
   ],
   "source": [
    "data.loc[data['attendance'].idxmin()]"
   ],
   "metadata": {
    "collapsed": false,
    "pycharm": {
     "name": "#%%\n"
    }
   }
  },
  {
   "cell_type": "markdown",
   "source": [
    "# 9. Какая игра в сезоне была самая ветренная?"
   ],
   "metadata": {
    "collapsed": false,
    "pycharm": {
     "name": "#%% md\n"
    }
   }
  },
  {
   "cell_type": "code",
   "execution_count": 18,
   "outputs": [
    {
     "data": {
      "text/plain": "attendance                        41543.0\naway_team               Milwaukee Brewers\naway_team_errors                        1\naway_team_hits                         11\naway_team_runs                          5\ndate                  2016-06-13 00:00:00\nfield_type                       on grass\ngame_type                      Night Game\nhome_team            San Francisco Giants\nhome_team_errors                        0\nhome_team_hits                         14\nhome_team_runs                         11\nstart_time                         7:15PM\nvenue                           AT&T Park\nday_of_week                        Monday\ntemperature                          58.0\nwind_speed                           25.0\nwind_direction         out to Centerfield\nsky                                Cloudy\ntotal_runs                             16\ngame_hours_dec                   3.633333\nseason                     regular season\nhome_team_win                           1\nhome_team_loss                          0\nhome_team_outcome                     Win\ntime                  2016-06-13 07:15:00\nName: 1655, dtype: object"
     },
     "execution_count": 18,
     "metadata": {},
     "output_type": "execute_result"
    }
   ],
   "source": [
    "data.loc[data['wind_speed'].idxmax()]"
   ],
   "metadata": {
    "collapsed": false,
    "pycharm": {
     "name": "#%%\n"
    }
   }
  },
  {
   "cell_type": "markdown",
   "source": [
    "# 10. В какой игре получили максимальное количество очков?"
   ],
   "metadata": {
    "collapsed": false,
    "pycharm": {
     "name": "#%% md\n"
    }
   }
  },
  {
   "cell_type": "code",
   "execution_count": 19,
   "outputs": [
    {
     "data": {
      "text/plain": "attendance                                 36552.0\naway_team            Los Angeles Angels of Anaheim\naway_team_errors                                 1\naway_team_hits                                  22\naway_team_runs                                  21\ndate                           2016-07-02 00:00:00\nfield_type                                on grass\ngame_type                               Night Game\nhome_team                           Boston Red Sox\nhome_team_errors                                 4\nhome_team_hits                                   8\nhome_team_runs                                   2\nstart_time                                  7:16PM\nvenue                                  Fenway Park\nday_of_week                               Saturday\ntemperature                                   80.0\nwind_speed                                    12.0\nwind_direction                   out to Rightfield\nsky                                         Cloudy\ntotal_runs                                      23\ngame_hours_dec                            3.633333\nseason                              regular season\nhome_team_win                                    0\nhome_team_loss                                   1\nhome_team_outcome                             Loss\ntime                           2016-07-02 07:16:00\nName: 1441, dtype: object"
     },
     "execution_count": 19,
     "metadata": {},
     "output_type": "execute_result"
    }
   ],
   "source": [
    "#data[['home_team_runs','away_team_runs']].max().idxmax() - находим, в каком из столбцов было большее количество ранов, в home_team_runs или в away_team_runs\n",
    "#далее в этом столбце уже ищем номер максимального количества ранов и возвращаем эту строку\n",
    "data.loc[data[data[['home_team_runs','away_team_runs']].max().idxmax()].idxmax()]"
   ],
   "metadata": {
    "collapsed": false,
    "pycharm": {
     "name": "#%%\n"
    }
   }
  },
  {
   "cell_type": "markdown",
   "source": [
    "# 11. Какая игра содержала максимальное количество ошибок домашней команды?"
   ],
   "metadata": {
    "collapsed": false,
    "pycharm": {
     "name": "#%% md\n"
    }
   }
  },
  {
   "cell_type": "code",
   "execution_count": 20,
   "outputs": [
    {
     "data": {
      "text/plain": "attendance                        22581.0\naway_team            Arizona Diamondbacks\naway_team_errors                        1\naway_team_hits                         11\naway_team_runs                          8\ndate                  2016-07-27 00:00:00\nfield_type                       on grass\ngame_type                      Night Game\nhome_team               Milwaukee Brewers\nhome_team_errors                        5\nhome_team_hits                          5\nhome_team_runs                          1\nstart_time                         7:10PM\nvenue                         Miller Park\nday_of_week                     Wednesday\ntemperature                          77.0\nwind_speed                            9.0\nwind_direction          in from Leftfield\nsky                                Cloudy\ntotal_runs                              9\ngame_hours_dec                   2.933333\nseason                     regular season\nhome_team_win                           0\nhome_team_loss                          1\nhome_team_outcome                    Loss\ntime                  2016-07-27 07:10:00\nName: 1178, dtype: object"
     },
     "execution_count": 20,
     "metadata": {},
     "output_type": "execute_result"
    }
   ],
   "source": [
    "data.loc[data['home_team_errors'].idxmax()]"
   ],
   "metadata": {
    "collapsed": false,
    "pycharm": {
     "name": "#%%\n"
    }
   }
  },
  {
   "cell_type": "markdown",
   "source": [
    "# 12. В какой игре было максимальное количество хитов?"
   ],
   "metadata": {
    "collapsed": false,
    "pycharm": {
     "name": "#%% md\n"
    }
   }
  },
  {
   "cell_type": "code",
   "execution_count": 21,
   "outputs": [
    {
     "data": {
      "text/plain": "attendance                       36137.0\naway_team                   Chicago Cubs\naway_team_errors                       0\naway_team_hits                        11\naway_team_runs                         3\ndate                 2016-07-03 00:00:00\nfield_type                      on grass\ngame_type                       Day Game\nhome_team                  New York Mets\nhome_team_errors                       1\nhome_team_hits                        22\nhome_team_runs                        14\nstart_time                        1:12PM\nvenue                         Citi Field\nday_of_week                       Sunday\ntemperature                         80.0\nwind_speed                           3.0\nwind_direction          out to Leftfield\nsky                               Cloudy\ntotal_runs                            17\ngame_hours_dec                  3.283333\nseason                    regular season\nhome_team_win                          1\nhome_team_loss                         0\nhome_team_outcome                    Win\ntime                 2016-07-03 01:12:00\nName: 1423, dtype: object"
     },
     "execution_count": 21,
     "metadata": {},
     "output_type": "execute_result"
    }
   ],
   "source": [
    "#data[['home_team_hits','away_team_hits']].max().idxmax() - находим, в каком из столбцов было большее количество хитов, в home_team_hits или в away_team_hits\n",
    "#далее в этом столбце уже ищем номер максимального количества хитов и возвращаем эту строку\n",
    "data.loc[data[data[['home_team_hits','away_team_hits']].max().idxmax()].idxmax()]"
   ],
   "metadata": {
    "collapsed": false,
    "pycharm": {
     "name": "#%%\n"
    }
   }
  },
  {
   "cell_type": "markdown",
   "source": [
    "# 13. Выведите количество игр которая сыграла каждая команда в данном сезоне?"
   ],
   "metadata": {
    "collapsed": false,
    "pycharm": {
     "name": "#%% md\n"
    }
   }
  },
  {
   "cell_type": "code",
   "execution_count": 22,
   "outputs": [],
   "source": [
    "#объединяем названия команд из столбцов home_team и away_team\n",
    "teams=pd.concat([data[\"home_team\"],data[\"away_team\"]], ignore_index=True)"
   ],
   "metadata": {
    "collapsed": false,
    "pycharm": {
     "name": "#%%\n"
    }
   }
  },
  {
   "cell_type": "code",
   "execution_count": 23,
   "outputs": [
    {
     "data": {
      "text/plain": "Kansas City Royals               162\nPhiladelphia Phillies            162\nLos Angeles Dodgers              162\nBoston Red Sox                   162\nChicago White Sox                162\nSan Francisco Giants             162\nSt. Louis Cardinals              162\nToronto Blue Jays                162\nWashington Nationals             162\nColorado Rockies                 162\nChicago Cubs                     162\nHouston Astros                   162\nMinnesota Twins                  162\nCincinnati Reds                  162\nNew York Mets                    162\nSeattle Mariners                 162\nMilwaukee Brewers                162\nNew York Yankees                 162\nOakland Athletics                162\nPittsburgh Pirates               162\nSan Diego Padres                 162\nTampa Bay Rays                   162\nTexas Rangers                    162\nArizona Diamondbacks             162\nBaltimore Orioles                162\nLos Angeles Angels of Anaheim    162\nMiami Marlins                    161\nDetroit Tigers                   161\nAtlanta Braves                   161\nCleveland Indians                161\ndtype: int64"
     },
     "execution_count": 23,
     "metadata": {},
     "output_type": "execute_result"
    }
   ],
   "source": [
    "#все игравшие команды\n",
    "teams.value_counts()"
   ],
   "metadata": {
    "collapsed": false,
    "pycharm": {
     "name": "#%%\n"
    }
   }
  },
  {
   "cell_type": "markdown",
   "source": [
    "# 14. Какая команда выиграла наибольшое количество матчей в сезоне? (Будьте внимательны с типом матча в сезоне - season)."
   ],
   "metadata": {
    "collapsed": false,
    "pycharm": {
     "name": "#%% md\n"
    }
   }
  },
  {
   "cell_type": "code",
   "execution_count": 24,
   "outputs": [
    {
     "data": {
      "text/plain": "'Chicago Cubs'"
     },
     "execution_count": 24,
     "metadata": {},
     "output_type": "execute_result"
    }
   ],
   "source": [
    "#выделяем победы домашних команд\n",
    "home_win=data[['home_team','home_team_win']]\n",
    "#переименовываем столбцы, чтобы после объединить с гостевыми командами\n",
    "home_win=home_win.rename(columns={\"home_team\": \"team\", \"home_team_win\": \"win_number\"})\n",
    "#выделяем победы гостевых команд (это поражения домашних)\n",
    "away_win=data[['away_team','home_team_loss']]\n",
    "#переименовываем столбцы, чтобы после объединить с домашними командами\n",
    "away_win=away_win.rename(columns={\"away_team\": \"team\", \"home_team_loss\": \"win_number\"})\n",
    "#создаем объединенный датасет всех команд и всех их побед: и в качестве гостевой команды, и в качестве домашней\n",
    "win=pd.concat([home_win,away_win], ignore_index=True)\n",
    "#агрегируем по имени команды суммируя единицы в победах\n",
    "win=win.groupby(by=['team']).sum()\n",
    "#сортируем. верхняя команда - ответ\n",
    "win.sort_values(by='win_number', ascending=False, inplace=True)\n",
    "win.index[0]"
   ],
   "metadata": {
    "collapsed": false,
    "pycharm": {
     "name": "#%%\n"
    }
   }
  },
  {
   "cell_type": "markdown",
   "source": [
    "# 15. Какая команда выиграла наибольшее количество домашних матчей в сезоне?"
   ],
   "metadata": {
    "collapsed": false,
    "pycharm": {
     "name": "#%% md\n"
    }
   }
  },
  {
   "cell_type": "code",
   "execution_count": 25,
   "outputs": [
    {
     "data": {
      "text/plain": "'Chicago Cubs'"
     },
     "execution_count": 25,
     "metadata": {},
     "output_type": "execute_result"
    }
   ],
   "source": [
    "#выделяем домашние команды и их победы\n",
    "home_win=data[['home_team','home_team_win']]\n",
    "home_win=home_win.groupby(by=['home_team']).sum()\n",
    "#агрегируем их по названиям и суммируем количество побед\n",
    "#сортируем. верхняя команда - ответ\n",
    "home_win.sort_values(by='home_team_win', ascending=False,inplace=True)\n",
    "home_win.index[0]"
   ],
   "metadata": {
    "collapsed": false,
    "pycharm": {
     "name": "#%%\n"
    }
   }
  },
  {
   "cell_type": "markdown",
   "source": [
    "# 16. Какая команда выиграла наибольшее количество гостевых матчей в сезоне?"
   ],
   "metadata": {
    "collapsed": false,
    "pycharm": {
     "name": "#%% md\n"
    }
   }
  },
  {
   "cell_type": "code",
   "execution_count": 26,
   "outputs": [
    {
     "data": {
      "text/plain": "'St. Louis Cardinals'"
     },
     "execution_count": 26,
     "metadata": {},
     "output_type": "execute_result"
    }
   ],
   "source": [
    "#выделяем гостевые команды\n",
    "away_win=data[['away_team','home_team_loss']]\n",
    "away_win=away_win.groupby(by=['away_team']).sum()\n",
    "#агрегируем их по названиям и суммируем количество побед\n",
    "#сортируем. верхняя команда - ответ\n",
    "away_win.sort_values(by='home_team_loss', ascending=False, inplace=True)\n",
    "away_win.index[0]"
   ],
   "metadata": {
    "collapsed": false,
    "pycharm": {
     "name": "#%%\n"
    }
   }
  },
  {
   "cell_type": "markdown",
   "source": [
    "# 17. Какая команда проиграла наибольшее количество матчей в сезоне?"
   ],
   "metadata": {
    "collapsed": false,
    "pycharm": {
     "name": "#%% md\n"
    }
   }
  },
  {
   "cell_type": "code",
   "execution_count": 27,
   "outputs": [
    {
     "data": {
      "text/plain": "'Minnesota Twins'"
     },
     "execution_count": 27,
     "metadata": {},
     "output_type": "execute_result"
    }
   ],
   "source": [
    "#команда, которая выиграла меньше всех игр - проиграла больше всех матчей в сезоне\n",
    "#это последняя в списке команд\n",
    "win.index[-1]"
   ],
   "metadata": {
    "collapsed": false,
    "pycharm": {
     "name": "#%%\n"
    }
   }
  },
  {
   "cell_type": "markdown",
   "source": [
    "# 18. Зависит ли выигрышь от количества посетителей матча? (https://pandas.pydata.org/docs/reference/api/pandas.DataFrame.cov.html)"
   ],
   "metadata": {
    "collapsed": false,
    "pycharm": {
     "name": "#%% md\n"
    }
   }
  },
  {
   "cell_type": "code",
   "execution_count": 28,
   "outputs": [
    {
     "data": {
      "text/plain": "                 attendance  home_team_win\nattendance     9.555372e+07     242.504332\nhome_team_win  2.425043e+02       0.249199",
      "text/html": "<div>\n<style scoped>\n    .dataframe tbody tr th:only-of-type {\n        vertical-align: middle;\n    }\n\n    .dataframe tbody tr th {\n        vertical-align: top;\n    }\n\n    .dataframe thead th {\n        text-align: right;\n    }\n</style>\n<table border=\"1\" class=\"dataframe\">\n  <thead>\n    <tr style=\"text-align: right;\">\n      <th></th>\n      <th>attendance</th>\n      <th>home_team_win</th>\n    </tr>\n  </thead>\n  <tbody>\n    <tr>\n      <th>attendance</th>\n      <td>9.555372e+07</td>\n      <td>242.504332</td>\n    </tr>\n    <tr>\n      <th>home_team_win</th>\n      <td>2.425043e+02</td>\n      <td>0.249199</td>\n    </tr>\n  </tbody>\n</table>\n</div>"
     },
     "execution_count": 28,
     "metadata": {},
     "output_type": "execute_result"
    }
   ],
   "source": [
    "win_attendance_data=data[['attendance','home_team_win']]\n",
    "win_attendance_data.cov()"
   ],
   "metadata": {
    "collapsed": false,
    "pycharm": {
     "name": "#%%\n"
    }
   }
  },
  {
   "cell_type": "code",
   "execution_count": 29,
   "outputs": [
    {
     "data": {
      "text/plain": "<Figure size 432x288 with 2 Axes>",
      "image/png": "[encoded data removed]"
     },
     "metadata": {
      "needs_background": "light"
     },
     "output_type": "display_data"
    }
   ],
   "source": [
    "cov = win_attendance_data.cov()\n",
    "labs = ['attendance', 'home_win']\n",
    "\n",
    "sns.heatmap(cov, annot=True, fmt='g', xticklabels=labs, yticklabels=labs)\n",
    "plt.show()"
   ],
   "metadata": {
    "collapsed": false,
    "pycharm": {
     "name": "#%%\n"
    }
   }
  },
  {
   "cell_type": "code",
   "execution_count": 30,
   "outputs": [
    {
     "data": {
      "text/plain": "               attendance  home_team_win\nattendance       1.000000       0.049696\nhome_team_win    0.049696       1.000000",
      "text/html": "<div>\n<style scoped>\n    .dataframe tbody tr th:only-of-type {\n        vertical-align: middle;\n    }\n\n    .dataframe tbody tr th {\n        vertical-align: top;\n    }\n\n    .dataframe thead th {\n        text-align: right;\n    }\n</style>\n<table border=\"1\" class=\"dataframe\">\n  <thead>\n    <tr style=\"text-align: right;\">\n      <th></th>\n      <th>attendance</th>\n      <th>home_team_win</th>\n    </tr>\n  </thead>\n  <tbody>\n    <tr>\n      <th>attendance</th>\n      <td>1.000000</td>\n      <td>0.049696</td>\n    </tr>\n    <tr>\n      <th>home_team_win</th>\n      <td>0.049696</td>\n      <td>1.000000</td>\n    </tr>\n  </tbody>\n</table>\n</div>"
     },
     "execution_count": 30,
     "metadata": {},
     "output_type": "execute_result"
    }
   ],
   "source": [
    "#посчитаем так же коэффициент корреляции\n",
    "win_attendance_data.corr()"
   ],
   "metadata": {
    "collapsed": false,
    "pycharm": {
     "name": "#%%\n"
    }
   }
  },
  {
   "cell_type": "code",
   "execution_count": 31,
   "outputs": [],
   "source": [
    "#так как корреляция между home_team_win и attendance не равна нулю, то есть (слабая) зависимость"
   ],
   "metadata": {
    "collapsed": false,
    "pycharm": {
     "name": "#%%\n"
    }
   }
  },
  {
   "cell_type": "markdown",
   "source": [
    "# 19. Правда ли что большинство проигрышных домашних матчей приходятся на Субботу и Воскресенье?"
   ],
   "metadata": {
    "collapsed": false,
    "pycharm": {
     "name": "#%% md\n"
    }
   }
  },
  {
   "cell_type": "code",
   "execution_count": 32,
   "outputs": [
    {
     "data": {
      "text/plain": "Sunday       189\nTuesday      185\nFriday       181\nSaturday     174\nWednesday    162\nMonday       128\nThursday     121\nName: day_of_week, dtype: int64"
     },
     "execution_count": 32,
     "metadata": {},
     "output_type": "execute_result"
    }
   ],
   "source": [
    "home_loss_days=data[data['home_team_loss']==1]['day_of_week']\n",
    "home_loss_days.value_counts()\n",
    "#ответ: не правда, это Воскресенье и Вторник"
   ],
   "metadata": {
    "collapsed": false,
    "pycharm": {
     "name": "#%%\n"
    }
   }
  },
  {
   "cell_type": "markdown",
   "source": [
    "# 20. Правда ли что наибольшее количество ранов происходит в холодную погоду? (Холодной погодой считается погода ниже 0 градусов)"
   ],
   "metadata": {
    "collapsed": false,
    "pycharm": {
     "name": "#%% md\n"
    }
   }
  },
  {
   "cell_type": "code",
   "execution_count": 33,
   "outputs": [],
   "source": [
    "#так как температура в Фаренгейтах, то переведем её в градусы Цельсия\n",
    "def Far2Cel(F):\n",
    "    return (F - 32)/1.8"
   ],
   "metadata": {
    "collapsed": false,
    "pycharm": {
     "name": "#%%\n"
    }
   }
  },
  {
   "cell_type": "code",
   "execution_count": 34,
   "outputs": [],
   "source": [
    "data['temperature']=data['temperature'].apply(Far2Cel)"
   ],
   "metadata": {
    "collapsed": false,
    "pycharm": {
     "name": "#%%\n"
    }
   }
  },
  {
   "cell_type": "code",
   "execution_count": 35,
   "outputs": [],
   "source": [
    "runs_temperature=data[['temperature','total_runs']]"
   ],
   "metadata": {
    "collapsed": false,
    "pycharm": {
     "name": "#%%\n"
    }
   }
  },
  {
   "cell_type": "code",
   "execution_count": 36,
   "outputs": [
    {
     "data": {
      "text/plain": "[Text(0.5, 0, 'temperature'), Text(0, 0.5, 'runs')]"
     },
     "execution_count": 36,
     "metadata": {},
     "output_type": "execute_result"
    },
    {
     "data": {
      "text/plain": "<Figure size 432x288 with 1 Axes>",
      "image/png": "[encoded data removed]"
     },
     "metadata": {
      "needs_background": "light"
     },
     "output_type": "display_data"
    }
   ],
   "source": [
    "#нарисуем график зависимости ранов от температуры\n",
    "figure, ax=plt.subplots()\n",
    "ax.scatter(runs_temperature['temperature'],runs_temperature['total_runs'])\n",
    "ax.set(xlabel='temperature', ylabel='runs')"
   ],
   "metadata": {
    "collapsed": false,
    "pycharm": {
     "name": "#%%\n"
    }
   }
  },
  {
   "cell_type": "code",
   "execution_count": 37,
   "outputs": [],
   "source": [
    "#по графику видно, что в холодную погоду ранов не наибольшее количество"
   ],
   "metadata": {
    "collapsed": false,
    "pycharm": {
     "name": "#%%\n"
    }
   }
  }
 ],
 "metadata": {
  "kernelspec": {
   "display_name": "Python 3",
   "language": "python",
   "name": "python3"
  },
  "language_info": {
   "codemirror_mode": {
    "name": "ipython",
    "version": 2
   },
   "file_extension": ".py",
   "mimetype": "text/x-python",
   "name": "python",
   "nbconvert_exporter": "python",
   "pygments_lexer": "ipython2",
   "version": "2.7.6"
  }
 },
 "nbformat": 4,
 "nbformat_minor": 0
}